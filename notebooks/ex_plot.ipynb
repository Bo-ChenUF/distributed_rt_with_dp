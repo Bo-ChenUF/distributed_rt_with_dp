{
 "cells": [
  {
   "cell_type": "code",
   "execution_count": 1,
   "id": "a02d54f2-db1e-4d31-813c-9075dbd74258",
   "metadata": {},
   "outputs": [],
   "source": [
    "import numpy as np\n",
    "import pandas as pd\n",
    "import h5py\n",
    "import os\n",
    "from pathlib import Path\n",
    "import sys\n",
    "import matplotlib.pyplot as plt\n",
    "import pickle\n",
    "\n",
    "sys.path.append(\n",
    "    os.path.abspath(\n",
    "        os.path.join(\"__file__\", '..', '..')\n",
    "    )\n",
    ")\n",
    "\n",
    "from util.notebook_util import convert_col_name_to_datetime \n",
    "from util.notebook_util import get_infected_population\n",
    "from util.notebook_util import remove_zero_population\n",
    "from util.notebook_util import get_epi_analysis\n",
    "from util.notebook_util import compute_eff_rep_num\n",
    "from util.notebook_util import get_infected_matrix, get_infected_matrix_updated\n",
    "from warnings import simplefilter\n",
    "simplefilter(action=\"ignore\", category=pd.errors.PerformanceWarning)\n",
    "from env.env_setup import rep_num_logger\n",
    "from util.plot_util import save_fig"
   ]
  },
  {
   "cell_type": "markdown",
   "id": "be36d85e-5209-4ebc-a60f-e0e354402faa",
   "metadata": {},
   "source": [
    "## Environment Settings"
   ]
  },
  {
   "cell_type": "code",
   "execution_count": 2,
   "id": "f946fcb6-93f0-4d34-92f0-a230ef6d5e8a",
   "metadata": {},
   "outputs": [
    {
     "name": "stdout",
     "output_type": "stream",
     "text": [
      "The recovery day we set is 14\n"
     ]
    }
   ],
   "source": [
    "# recovery days\n",
    "recovery_day = rep_num_logger[\"recovery_day\"]\n",
    "print(f\"The recovery day we set is {recovery_day}\")"
   ]
  },
  {
   "cell_type": "code",
   "execution_count": 3,
   "id": "3e3f7e78-f50a-4fee-8d16-60eefef0cf8f",
   "metadata": {},
   "outputs": [],
   "source": [
    "###################\n",
    "##### File settings\n",
    "###################\n",
    "# data directory\n",
    "data_dir = os.path.abspath(\n",
    "    os.path.join(os.path.curdir, '..', 'data')\n",
    ")\n",
    "\n",
    "# result directory\n",
    "res_dir = os.path.abspath(\n",
    "    os.path.join(os.path.curdir, '..', 'results')\n",
    ")\n",
    "\n",
    "# figure directory\n",
    "fig_dir = os.path.abspath(\n",
    "    os.path.join(os.path.curdir, '..', 'figures')\n",
    ")\n",
    "\n",
    "# clustering result directory\n",
    "resfile = os.path.join(\n",
    "    res_dir, 'safegraph_analysis.hdf5'\n",
    ")\n",
    "\n",
    "# epidemiology result directory\n",
    "epi_resfile = os.path.join(\n",
    "    res_dir, 'epi_analysis.hdf5'\n",
    ")\n",
    "\n",
    "##########################\n",
    "##### Reproduction numbers\n",
    "##########################\n",
    "# reproduction numbers\n",
    "base_path = os.path.join(os.path.abspath(os.path.join(\"__file__\", '..', '..','results')))\n",
    "save_file_name = 'rep_num_exp.pkl'\n",
    "save_str = os.path.abspath(os.path.join(base_path, \n",
    "                                            save_file_name))  \n",
    "with open(save_str, 'rb') as f:\n",
    "    rep_num_logger = pickle.load(f)\n",
    "\n",
    "# basic reproduction number matrix\n",
    "basic_rep_num_mat = rep_num_logger[\"basic_reproduction_number_matrix\"]\n",
    "\n",
    "# effective reproduction number matrix\n",
    "eff_rep_num_list = rep_num_logger[\"effective_reproduction_number_matrix\"]"
   ]
  },
  {
   "cell_type": "code",
   "execution_count": 4,
   "id": "b22bc81f-c559-42a8-8e5b-5a3abd535b3c",
   "metadata": {},
   "outputs": [],
   "source": [
    "from numpy import linalg as LA\n",
    "\n",
    "# loop through eff_rep_num_list\n",
    "max_num = []\n",
    "for i in range(len(eff_rep_num_list)):\n",
    "    max_num.append(LA.eigvals(eff_rep_num_list[i].eff_rep_num_mat)[0])"
   ]
  },
  {
   "cell_type": "code",
   "execution_count": 9,
   "id": "ca8c9eb6-e9ea-4848-96d8-969b594a4892",
   "metadata": {},
   "outputs": [
    {
     "name": "stdout",
     "output_type": "stream",
     "text": [
      "File /home/python/shared/results/epi_analysis.hdf5 has 12 entries.\n"
     ]
    },
    {
     "name": "stderr",
     "output_type": "stream",
     "text": [
      "/usr/local/lib/python3.8/dist-packages/matplotlib/cbook/__init__.py:1345: ComplexWarning: Casting complex values to real discards the imaginary part\n",
      "  return np.asarray(x, float)\n"
     ]
    },
    {
     "name": "stdout",
     "output_type": "stream",
     "text": [
      "Written file: /home/python/shared/figures/extra_global_eff_rep_num.png\n",
      "Written file: /home/python/shared/figures/extra_global_eff_rep_num.svg\n"
     ]
    },
    {
     "data": {
      "image/png": "[encoded data removed]",
      "text/plain": [
       "<Figure size 700x300 with 1 Axes>"
      ]
     },
     "metadata": {},
     "output_type": "display_data"
    }
   ],
   "source": [
    "import datetime\n",
    "import matplotlib.dates as mdates\n",
    "plt.style.use('ggplot')\n",
    "# open result file from clustering \n",
    "complevel=7\n",
    "complib='zlib'\n",
    "key_base = Path(\"/first_clustering\")\n",
    "with pd.HDFStore(epi_resfile, complevel=complevel, complib=complib) as store:\n",
    "    print(f\"File {epi_resfile} has {len(store.keys())} entries.\")\n",
    "\n",
    "    ########################################################\n",
    "    ##### Load clustering and the corresponding csse results\n",
    "    ########################################################\n",
    "    # confirmed cases information\n",
    "    key = str(key_base / 'basic' / \"confirmed_cases\")\n",
    "    df_confirmed_case = store[key]\n",
    "\n",
    "\n",
    "########################\n",
    "##### Parameter settings\n",
    "########################\n",
    "date = df_confirmed_case.columns.to_list()\n",
    "days = [datetime.datetime.strptime(date[i], '%m/%d/%y') for i in range(len(date))]\n",
    "linewidth = 3\n",
    "markersize = 6\n",
    "fontsize = 12\n",
    "start_index = 200\n",
    "\n",
    "fig = plt.figure(figsize=(7,3))\n",
    "ax = fig.add_subplot(111)\n",
    "ax.plot(days[start_index:], max_num[start_index:], color = 'red', linestyle='-', linewidth=linewidth, label=r\"Effective Reproduction Number $\\mathcal{R}^t$\")\n",
    "ax.set_xlabel('Date', fontsize=fontsize)\n",
    "ax.set_ylabel('Value', fontsize=fontsize)\n",
    "ax.legend()\n",
    "ax.xaxis.set_major_formatter(mdates.DateFormatter('%m/%d/%y'))\n",
    "ax.xaxis.set_major_locator(mdates.DayLocator(interval=50))\n",
    "save_fig(fig = fig,\n",
    "             fname = 'extra_global_eff_rep_num',\n",
    "             fig_dir = fig_dir)"
   ]
  },
  {
   "cell_type": "code",
   "execution_count": null,
   "id": "6b5298d4-3ef3-4506-923b-017ea031d448",
   "metadata": {},
   "outputs": [],
   "source": []
  },
  {
   "cell_type": "code",
   "execution_count": null,
   "id": "6b3b9ee7-3b3d-4bb5-8a07-0643e5c3ec63",
   "metadata": {},
   "outputs": [],
   "source": []
  }
 ],
 "metadata": {
  "kernelspec": {
   "display_name": "Python 3 (ipykernel)",
   "language": "python",
   "name": "python3"
  },
  "language_info": {
   "codemirror_mode": {
    "name": "ipython",
    "version": 3
   },
   "file_extension": ".py",
   "mimetype": "text/x-python",
   "name": "python",
   "nbconvert_exporter": "python",
   "pygments_lexer": "ipython3",
   "version": "3.8.10"
  }
 },
 "nbformat": 4,
 "nbformat_minor": 5
}
